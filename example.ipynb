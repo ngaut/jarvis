{
 "cells": [
  {
   "cell_type": "code",
   "execution_count": 2,
   "metadata": {},
   "outputs": [],
   "source": [
    "import grpc\n",
    "import jarvis.server.jarvis_pb2 as jarvis_pb2\n",
    "import jarvis.server.jarvis_pb2_grpc as jarvis_pb2_grpc\n",
    "\n",
    "channel = grpc.insecure_channel(\"localhost:51155\")\n",
    "stub = jarvis_pb2_grpc.JarvisStub(channel)"
   ]
  },
  {
   "cell_type": "code",
   "execution_count": null,
   "metadata": {},
   "outputs": [],
   "source": [
    "response=stub.Execute(\n",
    "    jarvis_pb2.ExecuteRequest(\n",
    "        task=(\n",
    "            \"Collect the top three articles featured on Hacker News (https://news.ycombinator.com/), \"\n",
    "            \"and produce a single professional reading summary that encompasses the content of all three articles, formatted in a user-friendly manner.\"\n",
    "        )\n",
    "    )\n",
    ")\n",
    "response"
   ]
  },
  {
   "cell_type": "code",
   "execution_count": null,
   "metadata": {},
   "outputs": [],
   "source": [
    "stub.SaveSkill(\n",
    "    jarvis_pb2.SaveSkillRequest(\n",
    "        executor_id=response.executor_id,\n",
    "        skill_name=\"<customize skill name>\",\n",
    "    )\n",
    ")"
   ]
  }
 ],
 "metadata": {
  "kernelspec": {
   "display_name": "jarvis",
   "language": "python",
   "name": "python3"
  },
  "language_info": {
   "codemirror_mode": {
    "name": "ipython",
    "version": 3
   },
   "file_extension": ".py",
   "mimetype": "text/x-python",
   "name": "python",
   "nbconvert_exporter": "python",
   "pygments_lexer": "ipython3",
   "version": "3.10.11"
  }
 },
 "nbformat": 4,
 "nbformat_minor": 2
}
